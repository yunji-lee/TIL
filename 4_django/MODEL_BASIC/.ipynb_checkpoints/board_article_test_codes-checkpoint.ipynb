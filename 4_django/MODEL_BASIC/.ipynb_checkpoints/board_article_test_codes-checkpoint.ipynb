{
 "cells": [
  {
   "cell_type": "markdown",
   "metadata": {},
   "source": [
    "# CRUD Basic\n",
    "\n",
    "## CRUD Operation\n",
    "\n",
    "- Create => 데이터 생성\n",
    "- Read (Retrieve) => 데이터 조회\n",
    "- Update => 데이터 수정\n",
    "- Delete => 데이터 삭제\n",
    "\n",
    "## Articles Table - schema\n",
    "\n",
    "=> 데이터의 스키마가 어떻게 되는가? 위의 테이블이라 설명할 수 있다.\n",
    "\n",
    "| Field Name | Data Type                 |\n",
    "| ---------- | ------------------------- |\n",
    "| `id`       | Integer, PK               |\n",
    "| `title`    | CharField(max_length=200) |\n",
    "| `content`  | TextField()               |\n",
    "\n"
   ]
  },
  {
   "cell_type": "code",
   "execution_count": null,
   "metadata": {},
   "outputs": [],
   "source": [
    "#from board.models import Article"
   ]
  },
  {
   "cell_type": "markdown",
   "metadata": {},
   "source": [
    "## Create (데이터 생성)\n",
    "1. `Article` 객체를 생성한다.\n",
    "2. 필드를 채운다.\n",
    "3. 저장한다."
   ]
  },
  {
   "cell_type": "code",
   "execution_count": 5,
   "metadata": {},
   "outputs": [],
   "source": [
    "# article = Article()\n",
    "\n",
    "# article.title = 'Test'\n",
    "# article.content = 'This is test article'\n",
    "\n",
    "# article.save()\n",
    "\n",
    "# ----\n",
    "# Delete 까지 진행 후 새로 실행 해보면 레코드의 id가 4번인데 \n",
    "# 이것은 개인의 주민등록을 등록하고 사망 후 새로 출생신고를 한다해도 같은번호로 생성되는 것이 아니라 \n",
    "# 다른 번호가 주어지는 것과 같은 논리라고 볼 수 있다."
   ]
  },
  {
   "cell_type": "code",
   "execution_count": null,
   "metadata": {},
   "outputs": [],
   "source": [
    "# 생성 & 필드채우기 => 저장\n",
    "\n",
    "# article = Article(title='2 step', content='creat')\n",
    "# article.save()"
   ]
  },
  {
   "cell_type": "code",
   "execution_count": null,
   "metadata": {},
   "outputs": [],
   "source": [
    "# 생성 & 필드채우기 & 저장\n",
    "\n",
    "# (Article.objects).create(title='OneLine', content='creat')"
   ]
  },
  {
   "cell_type": "markdown",
   "metadata": {},
   "source": [
    "## Read (데이터 조회) \n",
    "1. 여러개 조회\n",
    "    * **전체 조회**\n",
    "    * 특정 조건을 만족하는 레코드들 조회\n",
    "2. 정확히 한 개 조회\n",
    "    * **id(pk, primary key) 로 조회**\n",
    "    * 특정 조건을 만족하는 첫 번째 레코드 조회"
   ]
  },
  {
   "cell_type": "code",
   "execution_count": 1,
   "metadata": {},
   "outputs": [
    {
     "data": {
      "text/plain": [
       "<QuerySet [<Article: 1: Bye - Good Bye, World>, <Article: 2: Happy - Hacking>, <Article: 3: Test - This is test article>]>"
      ]
     },
     "execution_count": 1,
     "metadata": {},
     "output_type": "execute_result"
    }
   ],
   "source": [
    "# 전체조회\n",
    "(Article.objects).all() # (괄호 안)이 매니저"
   ]
  },
  {
   "cell_type": "code",
   "execution_count": 2,
   "metadata": {},
   "outputs": [
    {
     "data": {
      "text/plain": [
       "<Article: 1: Bye - Good Bye, World>"
      ]
     },
     "execution_count": 2,
     "metadata": {},
     "output_type": "execute_result"
    }
   ],
   "source": [
    "# id로 1개 조회\n",
    "(Article.objects).get(id=1)"
   ]
  },
  {
   "cell_type": "markdown",
   "metadata": {},
   "source": [
    "## Update (데이터 수정)\n",
    "\n",
    "1. `Article` 객체를 하나 고른다.\n",
    "2. 필드를 알맞게 수정한다.\n",
    "3. 수정한다."
   ]
  },
  {
   "cell_type": "code",
   "execution_count": 3,
   "metadata": {},
   "outputs": [],
   "source": [
    "article = Article.objects.get(id=1)\n",
    "\n",
    "article.title = '6pm'\n",
    "article.content = 'Time to go home'\n",
    "\n",
    "article.save()"
   ]
  },
  {
   "cell_type": "markdown",
   "metadata": {},
   "source": [
    "## Delete (데이터 삭제)\n",
    "\n",
    "1. `Article`객체를 하나 고른다.\n",
    "2. 삭제한다."
   ]
  },
  {
   "cell_type": "code",
   "execution_count": 4,
   "metadata": {},
   "outputs": [
    {
     "data": {
      "text/plain": [
       "(1, {'board.Article': 1})"
      ]
     },
     "execution_count": 4,
     "metadata": {},
     "output_type": "execute_result"
    }
   ],
   "source": [
    "# article = Article.objects.get(id=3)\n",
    "\n",
    "# article.delete()\n",
    "\n",
    "# 주석처리한 이유는, 이미 삭제한것을 재실행하면 오류나니까"
   ]
  },
  {
   "cell_type": "code",
   "execution_count": null,
   "metadata": {},
   "outputs": [],
   "source": []
  }
 ],
 "metadata": {
  "kernelspec": {
   "display_name": "Django Shell-Plus",
   "language": "python",
   "name": "django_extensions"
  },
  "language_info": {
   "codemirror_mode": {
    "name": "ipython",
    "version": 3
   },
   "file_extension": ".py",
   "mimetype": "text/x-python",
   "name": "python",
   "nbconvert_exporter": "python",
   "pygments_lexer": "ipython3",
   "version": "3.7.3"
  },
  "toc": {
   "base_numbering": 1,
   "nav_menu": {},
   "number_sections": true,
   "sideBar": true,
   "skip_h1_title": false,
   "title_cell": "Table of Contents",
   "title_sidebar": "Contents",
   "toc_cell": false,
   "toc_position": {},
   "toc_section_display": true,
   "toc_window_display": false
  },
  "varInspector": {
   "cols": {
    "lenName": 16,
    "lenType": 16,
    "lenVar": 40
   },
   "kernels_config": {
    "python": {
     "delete_cmd_postfix": "",
     "delete_cmd_prefix": "del ",
     "library": "var_list.py",
     "varRefreshCmd": "print(var_dic_list())"
    },
    "r": {
     "delete_cmd_postfix": ") ",
     "delete_cmd_prefix": "rm(",
     "library": "var_list.r",
     "varRefreshCmd": "cat(var_dic_list()) "
    }
   },
   "types_to_exclude": [
    "module",
    "function",
    "builtin_function_or_method",
    "instance",
    "_Feature"
   ],
   "window_display": false
  }
 },
 "nbformat": 4,
 "nbformat_minor": 2
}
